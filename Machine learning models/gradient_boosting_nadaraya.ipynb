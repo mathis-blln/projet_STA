{
 "cells": [
  {
   "cell_type": "markdown",
   "metadata": {},
   "source": [
    "# Gradient boosting with nadaraya watson"
   ]
  },
  {
   "cell_type": "code",
   "execution_count": 1,
   "metadata": {},
   "outputs": [],
   "source": [
    "# LOAD LIBRARIES\n",
    "\n",
    "import pandas as pd\n",
    "import numpy as np\n",
    "import matplotlib.pyplot as plt\n",
    "from sklearn.preprocessing import StandardScaler\n",
    "from sklearn.metrics import mean_squared_error, r2_score, mean_absolute_error\n",
    "import numpy as np\n",
    "import pandas as pd"
   ]
  },
  {
   "cell_type": "code",
   "execution_count": 2,
   "metadata": {},
   "outputs": [],
   "source": [
    "## load data\n",
    "data = pd.read_csv('../data/output/final_database.csv')\n",
    "data.columns\n",
    "\n",
    "# date as datetime\n",
    "data['Date'] = pd.to_datetime(data['Date'])\n",
    "data['year'] = data['Date'].dt.year\n",
    "data['month'] = data['Date'].dt.month\n",
    "data['day'] = data['Date'].dt.day\n",
    "data['day_of_week'] = data['Date'].dt.dayofweek"
   ]
  },
  {
   "cell_type": "code",
   "execution_count": 3,
   "metadata": {},
   "outputs": [],
   "source": [
    "\n",
    "class GradientBoostingNadarayaWatson:\n",
    "    def __init__(self, num_iterations=100, learning_rate=0.1, bandwidth=None):\n",
    "        \"\"\"\n",
    "        Gradient Boosting with Nadaraya-Watson Kernel\n",
    "        \n",
    "        Args:\n",
    "        - num_iterations (int): Maximum number of boosting iterations.\n",
    "        - learning_rate (float): Learning rate for boosting updates.\n",
    "        - bandwidth (float): Bandwidth for the Nadaraya-Watson kernel. If None, it will be calculated automatically.\n",
    "        \"\"\"\n",
    "        self.num_iterations = num_iterations\n",
    "        self.learning_rate = learning_rate\n",
    "        self.bandwidth = bandwidth\n",
    "        self.F_pred = None\n",
    "        self.residuals = None\n",
    "        self.X_train = None\n",
    "\n",
    "    def _kernel_function(self, x):\n",
    "        \"\"\"Epanechnikov kernel function.\"\"\"\n",
    "        return np.where(np.abs(x) <= 1, 1/2, 0)\n",
    "\n",
    "    def _compute_bandwidth(self, n):\n",
    "        \"\"\"Calculate bandwidth based on the sample size.\"\"\"\n",
    "        return n ** (-1 / 6)\n",
    "\n",
    "    def _nadaraya_watson(self, x, residuals, X_exp):\n",
    "        \"\"\"\n",
    "        Apply Nadaraya-Watson regression for a single data point `x`.\n",
    "        \n",
    "        Args:\n",
    "        - x: Single data point (1D array) to predict.\n",
    "        - residuals: Residual values to fit.\n",
    "        - X_exp: Training features.\n",
    "        \n",
    "        Returns:\n",
    "        - Prediction at x based on kernel regression.\n",
    "        \"\"\"\n",
    "        h = self.bandwidth or self._compute_bandwidth(len(X_exp))\n",
    "        \n",
    "        # Compute pairwise distances and kernel weights for multi-dimensional input\n",
    "        distances = np.linalg.norm((X_exp - x) / h, axis=1)  # Euclidean distance for multi-dimensions\n",
    "        weights = self._kernel_function(distances)\n",
    "        \n",
    "        numerator = np.sum(residuals * weights)\n",
    "        denominator = np.sum(weights)\n",
    "        \n",
    "        return numerator / denominator if denominator != 0 else 0\n",
    "\n",
    "    def fit(self, X, y):\n",
    "        \"\"\"\n",
    "        Fit the Gradient Boosting with Nadaraya-Watson model.\n",
    "        \n",
    "        Args:\n",
    "        - X (np.array): Training features.\n",
    "        - y (np.array): Training target values.\n",
    "        \"\"\"\n",
    "        self.X_train = X  # Store the training features\n",
    "        self.F_pred = np.mean(y)  # Initialize predictions with the mean of y\n",
    "        \n",
    "        for _ in range(self.num_iterations):\n",
    "            # Step 1: Compute residuals\n",
    "            self.residuals = y - self.F_pred\n",
    "            \n",
    "            # Step 2: Fit residuals using Nadaraya-Watson kernel regression\n",
    "            res_pred = np.array([self._nadaraya_watson(val, self.residuals, self.X_train) for val in self.X_train])\n",
    "            \n",
    "            # Step 3: Update model predictions\n",
    "            self.F_pred += self.learning_rate * res_pred\n",
    "\n",
    "    def predict(self, X):\n",
    "        \"\"\"\n",
    "        Predict values using the fitted model.\n",
    "        \n",
    "        Args:\n",
    "        - X (np.array): Features for prediction.\n",
    "        \n",
    "        Returns:\n",
    "        - Predictions for the input features.\n",
    "        \"\"\"\n",
    "        if self.F_pred is None or self.residuals is None or self.X_train is None:\n",
    "            raise ValueError(\"Model is not fitted yet. Call `fit` before `predict`.\")\n",
    "        \n",
    "        # Predict using the retained training residuals and features\n",
    "        predictions = np.array([self._nadaraya_watson(val, self.residuals, self.X_train) for val in X])\n",
    "        return predictions\n"
   ]
  },
  {
   "cell_type": "code",
   "execution_count": 4,
   "metadata": {},
   "outputs": [],
   "source": [
    "scaler = StandardScaler()\n",
    "\n",
    "feature_cols = [\n",
    "                'GDPV', 'IRL', 'IRS', 'GDP', 'CPIH_YTYPCT', 'IRCB', 'UNR',\n",
    "                'YPH', 'UNR_us',  'CPI_us', 'High_minus_Low', 'Close_minus_Open',\n",
    "                'SMA_5', 'SMA_10', 'SMA_20', 'WMA_5', 'WMA_10', 'WMA_20', 'Momentum',\n",
    "                'RSI', 'Williams_R', 'Stochastic_K', 'Stochastic_D', 'CCI', 'MACD',\n",
    "]\n",
    "\n",
    "# Select only the columns in `feature_cols` for features\n",
    "X = data[feature_cols]\n",
    "\n",
    "# Define the target variable\n",
    "y = data['Close'].copy()  # Adjust this if your target variable column is named differently\n",
    "y = y\n",
    "\n",
    "year = data['Date'].dt.year\n",
    "\n",
    "X_train =  scaler.fit_transform(X[year < 2023])\n",
    "X_test = scaler.transform(X[year >= 2023])\n",
    "\n",
    "y_test = y[year >= 2023].reset_index(drop=True)\n",
    "y_train = y[year < 2023].reset_index(drop=True)\n",
    "\n",
    "#Create model\n",
    "model = GradientBoostingNadarayaWatson(num_iterations=100, learning_rate=0.01)\n",
    "#Train model\n",
    "model.fit(X_train, y_train)"
   ]
  },
  {
   "cell_type": "code",
   "execution_count": 5,
   "metadata": {},
   "outputs": [
    {
     "name": "stdout",
     "output_type": "stream",
     "text": [
      "  Metric         Train          Test\n",
      "0     R² -1.911064e+01 -4.902235e+02\n",
      "1    MSE  2.197250e+07  5.573327e+07\n",
      "2   RMSE  4.687483e+03  7.465472e+03\n",
      "3    MAE  4.640956e+03  7.457869e+03\n"
     ]
    }
   ],
   "source": [
    "# Make predictions on the test set\n",
    "\n",
    "# Predictions on the train and test sets\n",
    "y_train_pred = model.predict(X_train)\n",
    "y_test_pred = model.predict(X_test)\n",
    "\n",
    "# Performance metrics for the training set\n",
    "train_mse = mean_squared_error(y_train, y_train_pred)\n",
    "train_r_squared = r2_score(y_train, y_train_pred)\n",
    "train_mae = mean_absolute_error(y_train, y_train_pred)\n",
    "train_rmse = train_mse ** 0.5\n",
    "\n",
    "# # Performance metrics for the test set\n",
    "test_mse = mean_squared_error(y_test, y_test_pred)\n",
    "test_r_squared = r2_score(y_test, y_test_pred)\n",
    "test_mae = mean_absolute_error(y_test, y_test_pred)\n",
    "test_rmse = test_mse ** 0.5\n",
    "\n",
    "# Prepare the data for the summary table\n",
    "summary_table = {\n",
    "    \"Metric\": [\"R²\", \"MSE\", \"RMSE\", \"MAE\"],\n",
    "    \"Train\": [train_r_squared, train_mse, train_rmse, train_mae],\n",
    "    \"Test\": [test_r_squared, test_mse, test_rmse, test_mae]\n",
    "}\n",
    "\n",
    "summary_table = pd.DataFrame(summary_table)\n",
    "print(summary_table)"
   ]
  },
  {
   "cell_type": "code",
   "execution_count": 6,
   "metadata": {},
   "outputs": [
    {
     "data": {
      "image/png": "[encoded data removed]",
      "text/plain": [
       "<Figure size 1200x600 with 1 Axes>"
      ]
     },
     "metadata": {},
     "output_type": "display_data"
    }
   ],
   "source": [
    "# plot\n",
    "plt.figure(figsize=(12, 6))\n",
    "plt.plot(y_test, label='Actual')\n",
    "plt.plot(y_test_pred, label='Predicted')\n",
    "plt.legend()\n",
    "plt.show()\n"
   ]
  }
 ],
 "metadata": {
  "kernelspec": {
   "display_name": "Python 3",
   "language": "python",
   "name": "python3"
  },
  "language_info": {
   "codemirror_mode": {
    "name": "ipython",
    "version": 3
   },
   "file_extension": ".py",
   "mimetype": "text/x-python",
   "name": "python",
   "nbconvert_exporter": "python",
   "pygments_lexer": "ipython3",
   "version": "3.10.12"
  }
 },
 "nbformat": 4,
 "nbformat_minor": 2
}
